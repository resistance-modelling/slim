{
 "cells": [
  {
   "cell_type": "code",
   "execution_count": 5,
   "id": "b8c81049-883f-4cd6-bbc0-a6f2380e6868",
   "metadata": {},
   "outputs": [
    {
     "name": "stdout",
     "output_type": "stream",
     "text": [
      "3.8.2 (default, Mar 25 2020, 17:03:02) \n",
      "[GCC 7.3.0]\n"
     ]
    }
   ],
   "source": [
    "import sys\n",
    "import os\n",
    "os.chdir(\"../../\")\n",
    "\n",
    "print(sys.version)"
   ]
  },
  {
   "cell_type": "code",
   "execution_count": 6,
   "id": "16c263be-df6f-47ee-91e2-4ac1724e8acd",
   "metadata": {},
   "outputs": [],
   "source": [
    "import slim"
   ]
  },
  {
   "cell_type": "code",
   "execution_count": 86,
   "id": "cfdd2a4b-c48c-4990-ad52-9590fee61417",
   "metadata": {},
   "outputs": [],
   "source": [
    "\"\"\"\n",
    "A script that downloads and parses Salmon Scotland mortality reports.\n",
    "\"\"\"\n",
    "\n",
    "from bs4 import BeautifulSoup\n",
    "from requests import get\n",
    "import os\n",
    "from pathlib import Path\n",
    "import tabula\n",
    "\n",
    "WEBSITE = \"https://www.salmonscotland.co.uk\"\n",
    "REPORT_URL = f\"{WEBSITE}/reports/monthly-mortality-rate-%s-%d\"\n",
    "\n",
    "\n",
    "async def download(month: str, year: int):\n",
    "    url = REPORT_URL % (month, year)\n",
    "    parse_page = get(url).content\n",
    "    parser = BeautifulSoup(parse_page, \"html.parser\")\n",
    "    div = parser.find(\"div\", class_=\"download-link\")\n",
    "    a = div.find(\"a\")\n",
    "    download_link = WEBSITE + a[\"href\"]\n",
    "    return download_link\n",
    "\n",
    "    \"\"\"\n",
    "    report_out_folder = Path(\"output/reports/\")\n",
    "    filename = report_out_folder / f\"SS-{month}-{year}.pdf\"\n",
    "    os.makedirs(str(report_out_folder), exist_ok=True)\n",
    "    downloaded_pdf = get(download_link)\n",
    "\n",
    "    with filename.open(\"wb\") as f:\n",
    "        f.write(downloaded_pdf.content)\n",
    "\n",
    "    return filename\n",
    "    \"\"\"\n",
    "# download(\"November\", 2021)\n",
    "\n",
    "# TODO: add tabula execution and parsing..."
   ]
  },
  {
   "cell_type": "code",
   "execution_count": 87,
   "id": "f905819e-1028-45d1-bc57-2b5d66f3d780",
   "metadata": {},
   "outputs": [],
   "source": [
    "import tabula"
   ]
  },
  {
   "cell_type": "code",
   "execution_count": 91,
   "id": "8cbebdae-39de-4c4f-8116-417676416aba",
   "metadata": {},
   "outputs": [],
   "source": [
    "import pandas as pd\n",
    "\n",
    "pdf = \"output/reports/SS-November-2021.pdf\"\n",
    "\n",
    "column_names = [\"company\", \"site\", \"mortality\", \"note\", \"cumulative_mortality\"]\n",
    "\n",
    "complete_df = None\n",
    "def get_pdf_page(pdf, page, month, year):\n",
    "    # parsing of multiple pages breaks\n",
    "    df = tabula.read_pdf(pdf, pages=page, pandas_options={\"names\": column_names})[0]\n",
    "    if page == 3:\n",
    "        df = df[3:].reset_index(drop=True)\n",
    "    df[\"month\"] = month\n",
    "    df[\"year\"] = year\n",
    "    return df\n",
    "\n",
    "async def get_pdf_pages(pdf, month, year):\n",
    "    dfs = [get_pdf(page, month, year) for page in range(3, 7)]\n",
    "    return pd.concat(dfs, ignore_index=True, sort=False)"
   ]
  },
  {
   "cell_type": "code",
   "execution_count": 92,
   "id": "8fea0573-000b-493d-ab16-eebb51325b8a",
   "metadata": {},
   "outputs": [],
   "source": [
    "# extract all 2020...\n",
    "import asyncio\n",
    "import datetime\n",
    "\n",
    "def extract_year_report(year):\n",
    "    async def parse_and_extract(month):\n",
    "        print(f\"Parsing {month}\")\n",
    "        month_label = datetime.date(year, month, 1).strftime('%B')\n",
    "        location = await download(month_label, year)\n",
    "        return await get_pdf_pages(location, month, year)\n",
    "    \n",
    "    results = asyncio.gather(*map(parse_and_extract, range(1, 13)))\n",
    "    dfs = await results\n",
    "    return pd.concat(dfs, ignore_index=True, keys=[\"company\", \"month\", \"year\"])"
   ]
  },
  {
   "cell_type": "code",
   "execution_count": null,
   "id": "d87e5963-ba4e-4d56-b2bd-8f482ed8f46a",
   "metadata": {},
   "outputs": [],
   "source": []
  },
  {
   "cell_type": "code",
   "execution_count": null,
   "id": "e6d83e5c-8f2e-4a46-8e5e-931927bb108d",
   "metadata": {},
   "outputs": [
    {
     "name": "stdout",
     "output_type": "stream",
     "text": [
      "Parsing 1\n",
      "Parsing 2\n",
      "Parsing 3\n",
      "Parsing 4\n",
      "Parsing 5\n",
      "Parsing 6\n",
      "Parsing 7\n",
      "Parsing 8\n",
      "Parsing 9\n"
     ]
    }
   ],
   "source": [
    "await extract_year_report(2020)"
   ]
  },
  {
   "cell_type": "code",
   "execution_count": 75,
   "id": "00292faa-bfb3-4c5d-9aef-7ddc4b9aaf04",
   "metadata": {},
   "outputs": [],
   "source": [
    "df = _"
   ]
  },
  {
   "cell_type": "code",
   "execution_count": 78,
   "id": "ec79cdf2-804b-428b-a969-920353fecc4c",
   "metadata": {},
   "outputs": [
    {
     "data": {
      "text/plain": [
       "array([1, 2, 3])"
      ]
     },
     "execution_count": 78,
     "metadata": {},
     "output_type": "execute_result"
    }
   ],
   "source": []
  },
  {
   "cell_type": "code",
   "execution_count": null,
   "id": "621a991e-11fe-4d68-a9dc-fc90f5e4c39b",
   "metadata": {},
   "outputs": [],
   "source": []
  }
 ],
 "metadata": {
  "kernelspec": {
   "display_name": "Python 3 (ipykernel)",
   "language": "python",
   "name": "python3"
  },
  "language_info": {
   "codemirror_mode": {
    "name": "ipython",
    "version": 3
   },
   "file_extension": ".py",
   "mimetype": "text/x-python",
   "name": "python",
   "nbconvert_exporter": "python",
   "pygments_lexer": "ipython3",
   "version": "3.8.2"
  }
 },
 "nbformat": 4,
 "nbformat_minor": 5
}
